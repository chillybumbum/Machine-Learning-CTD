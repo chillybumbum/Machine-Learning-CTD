{
  "nbformat": 4,
  "nbformat_minor": 0,
  "metadata": {
    "colab": {
      "name": "Coding Assignment #1.ipynb",
      "provenance": []
    },
    "kernelspec": {
      "name": "python3",
      "display_name": "Python 3"
    },
    "language_info": {
      "name": "python"
    }
  },
  "cells": [
    {
      "cell_type": "markdown",
      "source": [
        "**Basic Python Coding Assignment.**\n",
        "\n",
        "**Name:**\n"
      ],
      "metadata": {
        "id": "QrO_wvUIFKFN"
      }
    },
    {
      "cell_type": "markdown",
      "source": [
        "Q1. Calculate the sum of `9.8`, `2.2` and `0.1`, store it in the variable `total`, then display `total`’s value. \n",
        "\n",
        "**Answer:** "
      ],
      "metadata": {
        "id": "up8VRMLaCiFR"
      }
    },
    {
      "cell_type": "code",
      "source": [
        "# Write your code here\n",
        "\n",
        "\n"
      ],
      "metadata": {
        "id": "GB1O4PyDCsl2"
      },
      "execution_count": null,
      "outputs": []
    },
    {
      "cell_type": "markdown",
      "source": [
        "Q2. Evaluate the expression `6 * (8 - 10)` with and without parentheses.Are the parentheses redundant?\n",
        "\n",
        "**Answer:** "
      ],
      "metadata": {
        "id": "PzeAA9QTC3wv"
      }
    },
    {
      "cell_type": "code",
      "source": [
        "# Write your code here\n",
        "\n",
        "\n"
      ],
      "metadata": {
        "id": "MNglGxv7DC4L"
      },
      "execution_count": null,
      "outputs": []
    },
    {
      "cell_type": "markdown",
      "source": [
        "Q3.Write an expression that displays the type of `'word'`.\n",
        "\n",
        "**Answer:** "
      ],
      "metadata": {
        "id": "5QhfJ1rMDN9I"
      }
    },
    {
      "cell_type": "code",
      "source": [
        "# Write your code here\n",
        "\n",
        "\n"
      ],
      "metadata": {
        "id": "0NnSeQWUDT59"
      },
      "execution_count": null,
      "outputs": []
    },
    {
      "cell_type": "markdown",
      "source": [
        "Q4. Use `float` to convert `'8.2'` (a string) to a floating-point value. Multiply that value by `6.6` and show the result. \n",
        "\n",
        "**Answer:** "
      ],
      "metadata": {
        "id": "ckLXzQnxEZFc"
      }
    },
    {
      "cell_type": "code",
      "source": [
        "# Write your code here\n",
        "\n",
        "\n"
      ],
      "metadata": {
        "id": "vKBe81jTEe2G"
      },
      "execution_count": null,
      "outputs": []
    },
    {
      "cell_type": "markdown",
      "source": [
        "Q5. For any of the operators `!=`, `>=` or `<=`, show that a syntax error occurs if you reverse the symbols in a condition.\n",
        "\n",
        "**Answer:** "
      ],
      "metadata": {
        "id": "5bhQrKWYEowi"
      }
    },
    {
      "cell_type": "code",
      "source": [
        "# Write your code here\n",
        "\n",
        "\n"
      ],
      "metadata": {
        "id": "nwKW9oTtEjGJ"
      },
      "execution_count": null,
      "outputs": []
    },
    {
      "cell_type": "markdown",
      "source": [
        "Q6. Use all six comparison operators to compare the values `10` and `18`. Display the values on one line using `print`.\n"
      ],
      "metadata": {
        "id": "vxd_VoeOEuyo"
      }
    },
    {
      "cell_type": "code",
      "source": [
        "# Write your code here\n",
        "\n",
        "\n"
      ],
      "metadata": {
        "id": "S2L_BTS_E3GF"
      },
      "execution_count": null,
      "outputs": []
    },
    {
      "cell_type": "markdown",
      "source": [
        "Q7. Suppose student-A got a grade of 65 in maths and if grades are below 60 then the student will fail, using the if-else statement, show whether student-A is passed or not?"
      ],
      "metadata": {
        "id": "sG5Ide5SF0sV"
      }
    },
    {
      "cell_type": "code",
      "source": [
        "# Write your code here\n",
        "\n",
        "\n"
      ],
      "metadata": {
        "id": "M0LkJSGTF0Us"
      },
      "execution_count": null,
      "outputs": []
    }
  ]
}